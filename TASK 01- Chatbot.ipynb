{
 "cells": [
  {
   "cell_type": "markdown",
   "id": "e4239074",
   "metadata": {},
   "source": [
    "# IMPORT LIBRARIES"
   ]
  },
  {
   "cell_type": "code",
   "execution_count": 1,
   "id": "a38d09c5",
   "metadata": {},
   "outputs": [],
   "source": [
    "import pandas as pd\n",
    "import numpy as np\n",
    "import random"
   ]
  },
  {
   "cell_type": "markdown",
   "id": "52126104",
   "metadata": {},
   "source": [
    "# Task # 01"
   ]
  },
  {
   "cell_type": "markdown",
   "id": "9ead9c34",
   "metadata": {},
   "source": [
    "# ---SIMPLE CHATBOT---"
   ]
  },
  {
   "cell_type": "code",
   "execution_count": 1,
   "id": "2c1272f1",
   "metadata": {},
   "outputs": [
    {
     "name": "stdout",
     "output_type": "stream",
     "text": [
      "User: hello\n",
      "Chatbot: \u001b[1mHello! How can I make your day awesome today?\u001b[0m\n",
      "User: how are you\n",
      "Chatbot: \u001b[1mI'm buzzing with digital energy! What can I do for you?\u001b[0m\n",
      "User: your age\n",
      "Chatbot: I'm ageless, like the digital winds that traverse the virtual realm.\n",
      "User: share knowledge\n",
      "Chatbot: Did you know that honey never spoils? Archaeologists have found pots of honey in ancient Egyptian tombs!\n",
      "User: your age\n",
      "Chatbot: I'm ageless, like the digital winds that traverse the virtual realm.\n",
      "User: latest tech trend\n",
      "Chatbot: \u001b[1mI'm navigating uncharted digital realms. Can you guide me with more context or questions?\u001b[0m\n",
      "User: new technology\n",
      "Chatbot: The digital frontier is always evolving! I can share some insights into the latest tech trends.\n",
      "User: tell me something\n",
      "Chatbot: \u001b[1mHello! How can I make your day awesome today?\u001b[0m\n",
      "User: python\n",
      "Chatbot: Coding is my digital dance! What coding adventure are you on today?\n",
      "User: coding\n",
      "Chatbot: Coding is my digital dance! What coding adventure are you on today?\n",
      "User: weather\n",
      "Chatbot: I can't control the weather, but I can brighten your day with conversation!\n",
      "User: recommend a movie\n",
      "Chatbot: \u001b[1mChatbot: Ah, the world of movies! I don't watch, but I can recommend some classics or the latest releases!\u001b[0m\n",
      "User: recommend a song\n",
      "Chatbot: \u001b[1mChatbot: Any specific genre or artist you're in the mood for?\u001b[0m\n",
      "User: thanks\n",
      "Chatbot: \u001b[1mYou're welcome! Spread positivity!\u001b[0m\n",
      "User: exit\n",
      "Chatbot: \u001b[1mI'm navigating uncharted digital realms. Can you guide me with more context or questions?\u001b[0m\n",
      "Chatbot: Until our next digital encounter! Farewell.\n"
     ]
    }
   ],
   "source": [
    "#text formatting\n",
    "BOLD = '\\033[1m'\n",
    "ITALIC = '\\033[3m'\n",
    "RESET_ALL = '\\033[0m'\n",
    "\n",
    "#basic rules and responses\n",
    "greetings = ['hello', 'hi', 'hey']\n",
    "farewells = ['bye', 'goodbye', 'see you']\n",
    "inquiries = ['how are you', 'what\\'s up', 'how do you do']\n",
    "thank_you = ['thank you', 'thanks']\n",
    "weather_keywords = ['weather', 'temperature', 'forecast']\n",
    "programming_keywords = ['programming', 'coding', 'python']\n",
    "age_query = ['how old are you', 'your age']\n",
    "hobbies_query = ['your hobbies', 'what do you like']\n",
    "knowledge_query = ['tell me something', 'share knowledge']\n",
    "movies_query = ['favorite movie', 'recommend a movie', 'watching a movie']\n",
    "music_query = ['favorite music', 'recommend a song', 'listening to music']\n",
    "tech_trends_query = ['latest tech trends', 'new technology']\n",
    "\n",
    "response_index = 0\n",
    "\n",
    "while True:\n",
    "    user_input = input(\"User: \").lower()\n",
    "\n",
    "    if any(word in user_input for word in greetings):\n",
    "        print(f\"Chatbot: {BOLD}Hello! How can I make your day awesome today?{RESET_ALL}\")\n",
    "\n",
    "    elif any(word in user_input for word in farewells):\n",
    "        print(f\"Chatbot: {BOLD}Farewell! May your day be filled with joy.{RESET_ALL}\")\n",
    "\n",
    "    elif any(word in user_input for word in inquiries):\n",
    "        print(f\"Chatbot: {BOLD}I'm buzzing with digital energy! What can I do for you?{RESET_ALL}\")\n",
    "\n",
    "    elif any(word in user_input for word in thank_you):\n",
    "        print(f\"Chatbot: {BOLD}You're welcome! Spread positivity!{RESET_ALL}\")\n",
    "\n",
    "    elif any(word in user_input for word in weather_keywords):\n",
    "        print(\"Chatbot: I can't control the weather, but I can brighten your day with conversation!\")\n",
    "\n",
    "    elif any(word in user_input for word in programming_keywords):\n",
    "        print(\"Chatbot: Coding is my digital dance! What coding adventure are you on today?\")\n",
    "\n",
    "    elif any(word in user_input for word in age_query):\n",
    "        print(\"Chatbot: I'm ageless, like the digital winds that traverse the virtual realm.\")\n",
    "\n",
    "    elif any(word in user_input for word in hobbies_query):\n",
    "        print(\"Chatbot: I don't have hobbies, but I love discussing all things digital and creative!\")\n",
    "\n",
    "    elif any(word in user_input for word in knowledge_query):\n",
    "        print(\"Chatbot: Did you know that honey never spoils? Archaeologists have found pots of honey in ancient Egyptian tombs!\")\n",
    "\n",
    "    elif any(word in user_input for word in movies_query):\n",
    "        responses = [\n",
    "            \"Chatbot: Ah, the world of movies! I don't watch, but I can recommend some classics or the latest releases!\",\n",
    "            \"Chatbot: Movies are a window to imagination. Any specific genre you're interested in?\"\n",
    "        ]\n",
    "        print(f\"Chatbot: {BOLD}{responses[response_index % len(responses)]}{RESET_ALL}\")\n",
    "        response_index += 1\n",
    "\n",
    "    elif any(word in user_input for word in music_query):\n",
    "        responses = [\n",
    "            \"Chatbot: Music is the symphony of life! Let me suggest a tune that might resonate with you.\",\n",
    "            \"Chatbot: Any specific genre or artist you're in the mood for?\"\n",
    "        ]\n",
    "        print(f\"Chatbot: {BOLD}{responses[response_index % len(responses)]}{RESET_ALL}\")\n",
    "        response_index += 1\n",
    "\n",
    "    elif any(word in user_input for word in tech_trends_query):\n",
    "        print(\"Chatbot: The digital frontier is always evolving! I can share some insights into the latest tech trends.\")\n",
    "\n",
    "    else:\n",
    "        print(f\"Chatbot: {BOLD}I'm navigating uncharted digital realms. Can you guide me with more context or questions?{RESET_ALL}\")\n",
    "\n",
    "    if user_input == 'exit':\n",
    "        print(\"Chatbot: Until our next digital encounter! Farewell.\")\n",
    "        break\n"
   ]
  },
  {
   "cell_type": "code",
   "execution_count": null,
   "id": "63366ea8",
   "metadata": {},
   "outputs": [],
   "source": []
  }
 ],
 "metadata": {
  "kernelspec": {
   "display_name": "Python 3 (ipykernel)",
   "language": "python",
   "name": "python3"
  },
  "language_info": {
   "codemirror_mode": {
    "name": "ipython",
    "version": 3
   },
   "file_extension": ".py",
   "mimetype": "text/x-python",
   "name": "python",
   "nbconvert_exporter": "python",
   "pygments_lexer": "ipython3",
   "version": "3.11.5"
  }
 },
 "nbformat": 4,
 "nbformat_minor": 5
}
